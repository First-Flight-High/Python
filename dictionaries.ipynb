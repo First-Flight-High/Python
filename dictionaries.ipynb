{
 "cells": [
  {
   "attachments": {},
   "cell_type": "markdown",
   "metadata": {},
   "source": [
    "# Dictionary"
   ]
  },
  {
   "attachments": {},
   "cell_type": "markdown",
   "metadata": {},
   "source": [
    "Dictionaries are a data structure for storing key and value pairs\n",
    "\n",
    "Keys can be any sort of variable and so can the values"
   ]
  },
  {
   "cell_type": "code",
   "execution_count": 6,
   "metadata": {},
   "outputs": [
    {
     "name": "stdout",
     "output_type": "stream",
     "text": [
      "{'key': 'value', 'String': 'Whats up', 'Int': 10, 'Bool': True, 50: 'World'}\n"
     ]
    }
   ],
   "source": [
    "d = {\n",
    "    \"key\" : \"value\",\n",
    "    \"String\" : \"Hello\",\n",
    "    \"Int\" : 10,\n",
    "    \"Bool\" : True,\n",
    "    50 : \"World\",\n",
    "    \"String\" : \"Whats up\" #overwrite the value from above. the keys need to have different names\n",
    "}\n",
    "print(d)"
   ]
  },
  {
   "attachments": {},
   "cell_type": "markdown",
   "metadata": {},
   "source": [
    "Keys have to be unique but the values don't"
   ]
  },
  {
   "cell_type": "code",
   "execution_count": 4,
   "metadata": {},
   "outputs": [
    {
     "name": "stdout",
     "output_type": "stream",
     "text": [
      "value\n",
      "World\n"
     ]
    }
   ],
   "source": [
    "#We access the values by using the dictionary name then brackets and the key NOT INDEX\n",
    "#you have to run the code above in order to transfer the dictionary of d from above\n",
    "print(d[\"key\"])\n",
    "print(d[50])"
   ]
  },
  {
   "cell_type": "code",
   "execution_count": 10,
   "metadata": {},
   "outputs": [
    {
     "name": "stdout",
     "output_type": "stream",
     "text": [
      "value\n",
      "Burger\n"
     ]
    }
   ],
   "source": [
    "#To change a key we can just use the assignment operator\n",
    "print(d[\"key\"]) #value\n",
    "(d[\"key\"]) = \"Burger\"\n",
    "print(d[\"key\"]) #Burger"
   ]
  },
  {
   "cell_type": "code",
   "execution_count": 8,
   "metadata": {},
   "outputs": [
    {
     "name": "stdout",
     "output_type": "stream",
     "text": [
      "{'key': 'value', 'String': 'Whats up', 'Int': 10, 'Bool': True, 50: 'World'}\n",
      "{'key': 'value', 'String': 'Whats up', 'Int': 10, 'Bool': True}\n"
     ]
    }
   ],
   "source": [
    "#use the del command to delete a key\n",
    "print(d)\n",
    "del d[50]\n",
    "print(d)"
   ]
  },
  {
   "cell_type": "code",
   "execution_count": 10,
   "metadata": {},
   "outputs": [
    {
     "name": "stdout",
     "output_type": "stream",
     "text": [
      "key value\n",
      "String Whats up\n",
      "Int 10\n",
      "Bool True\n"
     ]
    }
   ],
   "source": [
    "#for loops will loop through the keys\n",
    "for i in d:\n",
    "    print(i,d[i])"
   ]
  },
  {
   "cell_type": "code",
   "execution_count": 9,
   "metadata": {},
   "outputs": [
    {
     "name": "stdout",
     "output_type": "stream",
     "text": [
      "key value\n",
      "String Whats up\n",
      "Int 10\n",
      "Bool True\n"
     ]
    }
   ],
   "source": [
    "#for loops have two iterators when you loop thorugh them\n",
    "for key, value in d.items():\n",
    "    print(key, value)"
   ]
  },
  {
   "cell_type": "code",
   "execution_count": 11,
   "metadata": {},
   "outputs": [
    {
     "name": "stdout",
     "output_type": "stream",
     "text": [
      "['key', 'String', 'Int', 'Bool']\n"
     ]
    }
   ],
   "source": [
    "#to get just the keys from dictionary you can use the .keys() method\n",
    "\n",
    "keys = [key for key in d.keys()]\n",
    "print(keys)"
   ]
  },
  {
   "cell_type": "code",
   "execution_count": 12,
   "metadata": {},
   "outputs": [
    {
     "name": "stdout",
     "output_type": "stream",
     "text": [
      "['value', 'Whats up', 10, True]\n"
     ]
    }
   ],
   "source": [
    "#Same thing if you want a list of your values\n",
    "values = [value for value in d.values()]\n",
    "print(values)"
   ]
  },
  {
   "cell_type": "code",
   "execution_count": 13,
   "metadata": {},
   "outputs": [
    {
     "name": "stdout",
     "output_type": "stream",
     "text": [
      "key is in d\n"
     ]
    }
   ],
   "source": [
    "#You can search for the exsistance using \"in\"\n",
    "if \"key\" in d:\n",
    "    print(\"key is in d\")\n",
    "    #search for value\n",
    "if \"Burger\" in d.values():\n",
    "    print(\"Burger in d\")"
   ]
  }
 ],
 "metadata": {
  "kernelspec": {
   "display_name": "Python 3",
   "language": "python",
   "name": "python3"
  },
  "language_info": {
   "codemirror_mode": {
    "name": "ipython",
    "version": 3
   },
   "file_extension": ".py",
   "mimetype": "text/x-python",
   "name": "python",
   "nbconvert_exporter": "python",
   "pygments_lexer": "ipython3",
   "version": "3.10.9 (tags/v3.10.9:1dd9be6, Dec  6 2022, 20:01:21) [MSC v.1934 64 bit (AMD64)]"
  },
  "orig_nbformat": 4,
  "vscode": {
   "interpreter": {
    "hash": "db848ba9dddee61ca71b0391fd915c384886f9e7469196e13dd495193e5218df"
   }
  }
 },
 "nbformat": 4,
 "nbformat_minor": 2
}
