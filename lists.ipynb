{
 "cells": [
  {
   "attachments": {},
   "cell_type": "markdown",
   "metadata": {},
   "source": [
    "# Lists\n",
    "---"
   ]
  },
  {
   "attachments": {},
   "cell_type": "markdown",
   "metadata": {},
   "source": [
    "Lists are a data structure for holding things like values, variables, or objects\n",
    "We use them to store and access data"
   ]
  },
  {
   "cell_type": "code",
   "execution_count": 1,
   "metadata": {},
   "outputs": [
    {
     "name": "stdout",
     "output_type": "stream",
     "text": [
      "238\n"
     ]
    }
   ],
   "source": [
    "teachers = [\"Phelan\", \"Smith\", \"Kovaks\", \"Mcclarry\", \"DePedro\", \"Stansky\"]\n",
    "rooms = [108, 114, 207, 238, 989, 230]\n",
    "present = [True, False, True, True, True, False]\n",
    "#list of lists\n",
    "all = [teachers, rooms, present]\n",
    "\n",
    "#index is the address of the element starting at zero and going up to the len of the list minus 1\n",
    "print(rooms[3])\n",
    "#print(teachers[25])  This is out of range error due to the number not being on the list\n",
    "print(present[0])\n",
    "print(present[-1]) #last item in a list"
   ]
  },
  {
   "attachments": {},
   "cell_type": "markdown",
   "metadata": {},
   "source": [
    "         0  1  2  3  4  5  6  7  8  9  10\n",
    "list = [ a  b  c  d  e  f  g  h  i  j  k]\n",
    "                             -4 -3 -2 -1"
   ]
  },
  {
   "cell_type": "code",
   "execution_count": null,
   "metadata": {},
   "outputs": [],
   "source": [
    "#Example question\n",
    "my_list = [1, 4, 6, 7]\n",
    "a = len(my_list)\n",
    "b = my_list[len[-1]]\n",
    "d = my_list.index(4)\n",
    "c = a + b + d\n",
    "print(c)"
   ]
  },
  {
   "attachments": {},
   "cell_type": "markdown",
   "metadata": {},
   "source": [
    "# List Slicing\n",
    "---"
   ]
  },
  {
   "cell_type": "code",
   "execution_count": null,
   "metadata": {},
   "outputs": [],
   "source": [
    "the_list = [0,1,2,3,4,5,6,7,8,9,]\n",
    "\n",
    "#slices are the start and stop the stop is not included\n",
    "print(the_list[4:8])\n",
    "\n",
    "#the zero index can be left blank\n",
    "print(the_list[:5])\n",
    "print(the_list[5:])\n",
    "\n",
    "#indexes can be negative in slices\n",
    "print(the_list[-6:])\n",
    "print(the_list[-1:0]) #does not reverse\n",
    "\n",
    "#Slicing can go in steps just like ranges\n",
    "print(the_list[0:-1:2]) #every other index because step is 2\n",
    "\n",
    "#Steps can be negative\n",
    "print(the_list[0:-1:-2])\n",
    "#reversing\n",
    "print(the_list[-1:0:-1])\n",
    "\n",
    "#leaving blanks with steps\n",
    "the_list[::3]"
   ]
  },
  {
   "attachments": {},
   "cell_type": "markdown",
   "metadata": {},
   "source": [
    "# Adding, Removing, Inserting, and Deleting Items\n",
    "---"
   ]
  },
  {
   "attachments": {},
   "cell_type": "markdown",
   "metadata": {},
   "source": [
    "Lists are Mutable which means we can change them in place"
   ]
  },
  {
   "cell_type": "code",
   "execution_count": 7,
   "metadata": {},
   "outputs": [
    {
     "name": "stdout",
     "output_type": "stream",
     "text": [
      "<class 'list'>\n"
     ]
    }
   ],
   "source": [
    "#Adding to the list the append method\n",
    "shopping_list = [\"Milk \", \"Eggs \"]\n",
    "shopping_list.append(\"Bread \")\n",
    "#item - input(\"What would you like to add?\")\n",
    "#shopping_list.append(item)\n",
    "shopping_list.append(input(\"what would you like to add?\"))\n",
    "print(type(shopping_list))"
   ]
  },
  {
   "cell_type": "code",
   "execution_count": null,
   "metadata": {},
   "outputs": [],
   "source": [
    "blank = []\n",
    "for i in range(20):\n",
    "    blank.append(i)\n",
    "print(blank)"
   ]
  },
  {
   "attachments": {},
   "cell_type": "markdown",
   "metadata": {},
   "source": [
    "Remove works like append but it startes at the front and removes only the first instance it finds."
   ]
  },
  {
   "cell_type": "code",
   "execution_count": 8,
   "metadata": {},
   "outputs": [
    {
     "name": "stdout",
     "output_type": "stream",
     "text": [
      "[0, 1, 2, 3, 4, 6, 7, 8, 9]\n"
     ]
    }
   ],
   "source": [
    "the_list = [0,1,2,3,4,5,6,7,8,9,]\n",
    "the_list.remove(5)\n",
    "print(the_list)\n",
    "shopping_list = [\"Milk \", \"Eggs \"]\n",
    "shopping_list.remove(\"Milk\")\n",
    "print(shopping_list)"
   ]
  },
  {
   "cell_type": "code",
   "execution_count": null,
   "metadata": {},
   "outputs": [],
   "source": [
    "scores = [2,5,6,7,8,2,2,2,2,3,4,5,3,2,]\n",
    "while 2 in scores: #using the in keyword to search through a list\n",
    "    scores.remove(2)\n",
    "print(scores)"
   ]
  },
  {
   "attachments": {},
   "cell_type": "markdown",
   "metadata": {},
   "source": [
    "#### Inserting things into an index in a list"
   ]
  },
  {
   "attachments": {},
   "cell_type": "markdown",
   "metadata": {},
   "source": [
    "The first argument on insert is the index and the second is the thing to insert"
   ]
  },
  {
   "cell_type": "code",
   "execution_count": 10,
   "metadata": {},
   "outputs": [
    {
     "name": "stdout",
     "output_type": "stream",
     "text": [
      "1\n",
      "['Milk', 'Bread', 'Eggs']\n",
      "2\n",
      "3\n"
     ]
    }
   ],
   "source": [
    "shopping_list = [\"Milk\", \"Eggs\"]\n",
    "print(shopping_list.index(\"Eggs\")) #index gives you the first instance starting from the beginning\n",
    "shopping_list.insert(1, \"Bread\")\n",
    "print(shopping_list)\n",
    "print(shopping_list.index(\"Eggs\"))\n",
    "print(len(shopping_list))"
   ]
  },
  {
   "attachments": {},
   "cell_type": "markdown",
   "metadata": {},
   "source": [
    "## Sorthing Lists"
   ]
  },
  {
   "attachments": {},
   "cell_type": "markdown",
   "metadata": {},
   "source": [
    "The .sort method will sort our list numerically and alphabetically"
   ]
  },
  {
   "cell_type": "code",
   "execution_count": null,
   "metadata": {},
   "outputs": [],
   "source": [
    "shopping_list = [\"Milk\", \"Eggs\", \"Bread\", \"Cheese\"]\n",
    "shopping_list.sort()\n",
    "print(shopping_list)\n",
    "scores = [2,5,6,7,8,2,2,2,2,3,4,5,3,2,]\n",
    "scores.sort()\n",
    "print(scores)\n",
    "new_list = shopping_list + scores #combine lists with the plus signs\n",
    "print(new_list)\n",
    "#new_list.sort() fails because of a mix of ints and strings"
   ]
  },
  {
   "cell_type": "code",
   "execution_count": null,
   "metadata": {},
   "outputs": [],
   "source": [
    "#sorted is a function like len that returns the a list sorted but doesn't change the list\n",
    "shopping_list = [\"Milk \", \"Eggs \", \"Bread \", \"Cheese \"]\n",
    "print(sorted(shopping_list))\n",
    "print(shopping_list)"
   ]
  },
  {
   "attachments": {},
   "cell_type": "markdown",
   "metadata": {},
   "source": [
    "#### Del function will delete something from your list"
   ]
  },
  {
   "attachments": {},
   "cell_type": "markdown",
   "metadata": {},
   "source": [
    "With remove you put the item you want removed. With Delete you put in the index of the item you want removed."
   ]
  },
  {
   "cell_type": "code",
   "execution_count": 13,
   "metadata": {},
   "outputs": [
    {
     "name": "stdout",
     "output_type": "stream",
     "text": [
      "['Milk ', 'Eggs ', 'Bread ']\n"
     ]
    }
   ],
   "source": [
    "#put in the index you want to delete\n",
    "shopping_list = [\"Milk \", \"Eggs \", \"Bread \", \"Cheese \"]\n",
    "del shopping_list[3]\n",
    "print(shopping_list)"
   ]
  },
  {
   "attachments": {},
   "cell_type": "markdown",
   "metadata": {},
   "source": [
    "# Copying and Cloning lists\n",
    "---"
   ]
  },
  {
   "attachments": {},
   "cell_type": "markdown",
   "metadata": {},
   "source": [
    "Sometiems we want to give a list two names and something we want to copy it completely"
   ]
  },
  {
   "cell_type": "code",
   "execution_count": 19,
   "metadata": {},
   "outputs": [
    {
     "name": "stdout",
     "output_type": "stream",
     "text": [
      "2185359481664 2185359481664\n",
      "['Milk ', 'Eggs ', 'Bread ', 'Cheese ', 'Cheese']\n"
     ]
    }
   ],
   "source": [
    "#setting one list equal to another just gives the same list two names\n",
    "shopping_list = [\"Milk \", \"Eggs \", \"Bread \", \"Cheese \"]\n",
    "other_list = shopping_list\n",
    "print(id(shopping_list), id(other_list)) #the id function lets you see the memory location where that variable is stored\n",
    "other_list.append(\"Cheese\")\n",
    "print(shopping_list)"
   ]
  },
  {
   "cell_type": "code",
   "execution_count": 20,
   "metadata": {},
   "outputs": [
    {
     "name": "stdout",
     "output_type": "stream",
     "text": [
      "2185359458496 2185338663616\n",
      "['Milk ', 'Eggs ', 'Bread ', 'Cheese ']\n",
      "['Milk ', 'Eggs ', 'Bread ', 'Cheese ', 'Cheese ']\n"
     ]
    }
   ],
   "source": [
    "#setting one list equal to another just gives the same list two names\n",
    "shopping_list = [\"Milk \", \"Eggs \", \"Bread \", \"Cheese \"]\n",
    "other_list = shopping_list[:]\n",
    "print(id(shopping_list), id(other_list))\n",
    "other_list.append(\"Cheese \")\n",
    "print(shopping_list)\n",
    "print(other_list)"
   ]
  },
  {
   "cell_type": "code",
   "execution_count": null,
   "metadata": {},
   "outputs": [],
   "source": [
    "a = 4\n",
    "b = 4\n",
    "print(id(a), id(b))"
   ]
  },
  {
   "attachments": {},
   "cell_type": "markdown",
   "metadata": {},
   "source": [
    "# List comprehension\n",
    "---"
   ]
  },
  {
   "cell_type": "code",
   "execution_count": 22,
   "metadata": {},
   "outputs": [
    {
     "name": "stdout",
     "output_type": "stream",
     "text": [
      "[0, 1, 2, 3, 4, 5, 6, 7, 8, 9]\n"
     ]
    }
   ],
   "source": [
    "#old way of creating a list\n",
    "my_list = []\n",
    "for i in range(10):\n",
    "    my_list.append(i)\n",
    "\n",
    "#list comprehension way of doin the same exact thing\n",
    "\n",
    "my_list = [i for i in range(10)]\n",
    "\n",
    "print(my_list)"
   ]
  },
  {
   "cell_type": "code",
   "execution_count": 27,
   "metadata": {},
   "outputs": [
    {
     "name": "stdout",
     "output_type": "stream",
     "text": [
      "[0, 1, 2, 9, 4, 25, 6, 49, 8, 81, 10, 121, 12, 169, 14, 225, 16, 289, 18, 361]\n",
      "[0, 2, 4, 6, 8, 10, 12, 14, 16, 18]\n"
     ]
    }
   ],
   "source": [
    "#adding an if statement to a comprehension\n",
    "\n",
    "nums = [x if x % 2 == 0 else x**2 for x in range(20)]\n",
    "print(nums)\n",
    "\n",
    "nums2 = [x for x in range(20) if x % 2 == 0]\n",
    "print(nums2)"
   ]
  },
  {
   "cell_type": "code",
   "execution_count": 29,
   "metadata": {},
   "outputs": [
    {
     "name": "stdout",
     "output_type": "stream",
     "text": [
      "[[0, 1, 2, 3, 4], [0, 1, 2, 3, 4], [0, 1, 2, 3, 4], [0, 1, 2, 3, 4], [0, 1, 2, 3, 4]]\n"
     ]
    }
   ],
   "source": [
    "#Nested list comprehension\n",
    "\n",
    "matrix = [[j for j in range(5)]for i in range(5)]\n",
    "\n",
    "print(matrix)"
   ]
  },
  {
   "attachments": {},
   "cell_type": "markdown",
   "metadata": {},
   "source": [
    "We didn't cover it in this speed run, but you can put a lot of things in the expression part of the comprehension like mathmatical operators or even function calls.\n",
    "\n",
    "\n",
    "[checkout this article all about it](https://realpython.com/list-comprehension-python/)"
   ]
  },
  {
   "cell_type": "code",
   "execution_count": null,
   "metadata": {},
   "outputs": [],
   "source": [
    "#Create a list of squares from 1 to 10\n",
    "squares = [i**2 for i in range(1,11)]"
   ]
  },
  {
   "cell_type": "code",
   "execution_count": null,
   "metadata": {},
   "outputs": [],
   "source": [
    "#Calculate tax for each item in the list and store the new prices into a new list\n",
    "prices = [10, 20, 30]\n",
    "tax = 1.05\n",
    "new_prices = [i*tax for i in prices]\n",
    "print(new_prices)"
   ]
  },
  {
   "cell_type": "code",
   "execution_count": null,
   "metadata": {},
   "outputs": [],
   "source": [
    "#remove vowels from a string\n",
    "def remove_vowels(string):\n",
    "    vowels = \"aeiou\"\n",
    "    return \"\".join([i for i in string if i.lower() not in vowels])\n",
    "#list of strings\n",
    "names = [\"Bob\", \"Andy\", \"Jenny\", \"Sally\"]\n",
    "new_names = [remove_vowels(i) for i in names]\n",
    "print(new_names)"
   ]
  },
  {
   "attachments": {},
   "cell_type": "markdown",
   "metadata": {},
   "source": [
    "Putting the if statement before the iterable allows you to change what i will be with a conditional versus just using it to filter like we did with if statements after.\n",
    "That is why it required the else. Do this when you want to change the values of everything you are iterating over instead of just picking a few."
   ]
  },
  {
   "cell_type": "code",
   "execution_count": null,
   "metadata": {},
   "outputs": [],
   "source": [
    "nums = [1,2,3,4,5,6,7,8,9,10]\n",
    "#add 5 if the number is less than 5 otherwise leave it the same\n",
    "new_nums = [i + 5 if i < 5 else i for i in nums] \n",
    "print(new_nums)"
   ]
  },
  {
   "attachments": {},
   "cell_type": "markdown",
   "metadata": {},
   "source": [
    "Speed concerns are important on big data sets and list comprehensions can be a little bit faster than your regular for loop, but not as fast as the map function\n",
    "\n",
    "Look at this example from the article I linked."
   ]
  },
  {
   "cell_type": "code",
   "execution_count": null,
   "metadata": {},
   "outputs": [],
   "source": [
    "import random\n",
    "import timeit\n",
    "TAX_RATE = .08\n",
    "txns = [random.randrange(100) for _ in range(100000)]\n",
    "def get_price(txn):\n",
    "    return txn * (1 + TAX_RATE)\n",
    "\n",
    "def get_prices_with_map():\n",
    "    return list(map(get_price, txns))\n",
    "\n",
    "def get_prices_with_comprehension():\n",
    "    return [get_price(txn) for txn in txns]\n",
    "\n",
    "def get_prices_with_loop():\n",
    "    prices = []\n",
    "    for txn in txns:\n",
    "        prices.append(get_price(txn))\n",
    "    return prices\n",
    "\n",
    "print(\"map\",timeit.timeit(get_prices_with_map, number=1000))\n",
    "print(\"comprehension\",timeit.timeit(get_prices_with_comprehension, number=1000))\n",
    "print(\"loop\",timeit.timeit(get_prices_with_loop, number=1000))\n"
   ]
  }
 ],
 "metadata": {
  "kernelspec": {
   "display_name": "Python 3",
   "language": "python",
   "name": "python3"
  },
  "language_info": {
   "codemirror_mode": {
    "name": "ipython",
    "version": 3
   },
   "file_extension": ".py",
   "mimetype": "text/x-python",
   "name": "python",
   "nbconvert_exporter": "python",
   "pygments_lexer": "ipython3",
   "version": "3.10.9 (tags/v3.10.9:1dd9be6, Dec  6 2022, 20:01:21) [MSC v.1934 64 bit (AMD64)]"
  },
  "orig_nbformat": 4,
  "vscode": {
   "interpreter": {
    "hash": "db848ba9dddee61ca71b0391fd915c384886f9e7469196e13dd495193e5218df"
   }
  }
 },
 "nbformat": 4,
 "nbformat_minor": 2
}
