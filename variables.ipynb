{
 "cells": [
  {
   "attachments": {},
   "cell_type": "markdown",
   "metadata": {},
   "source": [
    "# Variables in Python\n",
    "___"
   ]
  },
  {
   "attachments": {},
   "cell_type": "markdown",
   "metadata": {},
   "source": [
    "In Python I we learned about the basic variables\n",
    "\n",
    "Strings - Text and characters. Inside of quotes \"obx\" \"123\" \"Spain 21\"\n",
    "Integers - Whole numbers. No decimals or fractions 123 12 9999\n",
    "Floats - Numbers with decimals 3.14 math.pi 6.02\n",
    "\n",
    "Booleans - True or False"
   ]
  },
  {
   "cell_type": "code",
   "execution_count": null,
   "metadata": {},
   "outputs": [],
   "source": [
    "#string\n",
    "print(\"Hello World\")\n",
    "#Int\n",
    "print(123)\n",
    "#float\n",
    "print(3.14)\n",
    "#bool\n",
    "print(True)"
   ]
  },
  {
   "attachments": {},
   "cell_type": "markdown",
   "metadata": {},
   "source": [
    "# Operators and Variables"
   ]
  },
  {
   "cell_type": "code",
   "execution_count": null,
   "metadata": {},
   "outputs": [],
   "source": [
    "number = 5\n",
    "number = number * 2 #multiplication\n",
    "number = number - 5 #subtraction\n",
    "number = number + 2 #addition\n",
    "number = number / 2 #division will return floats\n",
    "print (number)\n",
    "number = number ** 2 #raising to a power\n",
    "number = int(number) #casting it back to an int\n",
    "print(number)"
   ]
  },
  {
   "cell_type": "code",
   "execution_count": null,
   "metadata": {},
   "outputs": [],
   "source": [
    "#shortcut operator\n",
    "dogs = 8\n",
    "dogs -= 3 #this is the same as saying dogs = dogs - 3\n",
    "dogs += 8"
   ]
  },
  {
   "cell_type": "code",
   "execution_count": 2,
   "metadata": {},
   "outputs": [
    {
     "name": "stdout",
     "output_type": "stream",
     "text": [
      "0.1 0.2 0.30000000000000004\n",
      "False\n"
     ]
    }
   ],
   "source": [
    "a = .1\n",
    "b = .2\n",
    "c = a + b\n",
    "print(a,b,c)\n",
    "#but look at this\n",
    "print(.1 + .1 + .1 == .3)"
   ]
  },
  {
   "attachments": {},
   "cell_type": "markdown",
   "metadata": {},
   "source": [
    "## Relational Operators"
   ]
  },
  {
   "cell_type": "code",
   "execution_count": null,
   "metadata": {},
   "outputs": [],
   "source": [
    "#assign variables\n",
    "number, dogs = 10, 20\n",
    "\n",
    "if number > dogs:\n",
    "    print(\"Number is bigger\")\n",
    "else:\n",
    "    print(\"dogs is bigger\")\n",
    "\n",
    "# > >= greater than and greater than or equal to\n",
    "# < <= less than and less than or equal to"
   ]
  },
  {
   "cell_type": "code",
   "execution_count": null,
   "metadata": {},
   "outputs": [],
   "source": [
    "# Two equals signs are how we ask if one variable is equal to a number or another variable\n",
    "\n",
    "if dogs == number:\n",
    "    print(\"They are equal\")\n",
    "elif dogs != number:\n",
    "    print(\"They are not equal\")\n"
   ]
  },
  {
   "cell_type": "code",
   "execution_count": 7,
   "metadata": {},
   "outputs": [
    {
     "name": "stdout",
     "output_type": "stream",
     "text": [
      "-0.9999999999000102\n"
     ]
    }
   ],
   "source": [
    "a = 1.0000000001\n",
    "b = 2.00000000000001\n",
    "c = a - b\n",
    "print(c)"
   ]
  },
  {
   "attachments": {},
   "cell_type": "markdown",
   "metadata": {},
   "source": [
    "# Boolean Operators\n",
    "___"
   ]
  },
  {
   "cell_type": "code",
   "execution_count": null,
   "metadata": {},
   "outputs": [],
   "source": [
    "print(True and True) #True\n",
    "print(True and False) #False\n",
    "print(False or True) #True\n",
    "print(False or False) #True\n",
    "print(not True) #False\n",
    "\n",
    "#do this instead of nesting\n",
    "if True:\n",
    "    if True:\n",
    "        print(\"this is and\")"
   ]
  },
  {
   "attachments": {},
   "cell_type": "markdown",
   "metadata": {},
   "source": [
    "### Compound Boolean Conditionals"
   ]
  },
  {
   "cell_type": "code",
   "execution_count": 5,
   "metadata": {},
   "outputs": [
    {
     "name": "stdout",
     "output_type": "stream",
     "text": [
      "False\n",
      "False\n"
     ]
    }
   ],
   "source": [
    "print((True or True) and False) #False\n",
    "print((True or False) and False) #True\n",
    "\n",
    "#print(obj.x < 100 and obj.y > 90 or obj.touching(bullet))"
   ]
  },
  {
   "attachments": {},
   "cell_type": "markdown",
   "metadata": {},
   "source": [
    "# Type Casting on variables\n",
    "---"
   ]
  },
  {
   "cell_type": "code",
   "execution_count": 1,
   "metadata": {},
   "outputs": [
    {
     "name": "stdout",
     "output_type": "stream",
     "text": [
      "<class 'str'>\n",
      "\n"
     ]
    }
   ],
   "source": [
    "answer = int(input(\"Put in a number\"))\n",
    "print(type(answer))\n",
    "new_num = answer * 100   #cast answer to int\n",
    "print(new_num)"
   ]
  },
  {
   "cell_type": "code",
   "execution_count": 7,
   "metadata": {},
   "outputs": [
    {
     "ename": "ValueError",
     "evalue": "invalid literal for int() with base 10: 'abc'",
     "output_type": "error",
     "traceback": [
      "\u001b[1;31m---------------------------------------------------------------------------\u001b[0m",
      "\u001b[1;31mValueError\u001b[0m                                Traceback (most recent call last)",
      "Cell \u001b[1;32mIn[7], line 2\u001b[0m\n\u001b[0;32m      1\u001b[0m var \u001b[39m=\u001b[39m \u001b[39m\"\u001b[39m\u001b[39mabc\u001b[39m\u001b[39m\"\u001b[39m\n\u001b[1;32m----> 2\u001b[0m \u001b[39mprint\u001b[39m(\u001b[39mint\u001b[39;49m(var))  \u001b[39m#value error\u001b[39;00m\n",
      "\u001b[1;31mValueError\u001b[0m: invalid literal for int() with base 10: 'abc'"
     ]
    }
   ],
   "source": [
    "var = \"abc\"\n",
    "print(int(var))  #value error"
   ]
  },
  {
   "cell_type": "code",
   "execution_count": 6,
   "metadata": {},
   "outputs": [
    {
     "name": "stdout",
     "output_type": "stream",
     "text": [
      "[3, 4, 6, 3, 4, 5, 6, 8]\n"
     ]
    }
   ],
   "source": [
    "#casting a tuple to a list\n",
    "my_tup = (3,4,6,3,4,5,6,8)\n",
    "my_list = list(my_tup)\n",
    "print(my_list)"
   ]
  },
  {
   "attachments": {},
   "cell_type": "markdown",
   "metadata": {},
   "source": [
    "## Converting letters to numbers and back"
   ]
  },
  {
   "cell_type": "code",
   "execution_count": 4,
   "metadata": {},
   "outputs": [
    {
     "name": "stdout",
     "output_type": "stream",
     "text": [
      "97 65\n",
      "True\n"
     ]
    }
   ],
   "source": [
    "#original numbers are the numbers from the ascii table\n",
    "print(ord(\"a\"), ord(\"A\"))\n",
    "print(ord(\"a\") > ord(\"A\"))"
   ]
  },
  {
   "cell_type": "code",
   "execution_count": 5,
   "metadata": {},
   "outputs": [
    {
     "name": "stdout",
     "output_type": "stream",
     "text": [
      "A a\n"
     ]
    }
   ],
   "source": [
    "#Chr does the reverse and turns a number into a character on the ascii table\n",
    "print(chr(65), chr(97))\n"
   ]
  },
  {
   "attachments": {},
   "cell_type": "markdown",
   "metadata": {},
   "source": [
    "### Number with different bases"
   ]
  },
  {
   "cell_type": "code",
   "execution_count": 8,
   "metadata": {},
   "outputs": [
    {
     "name": "stdout",
     "output_type": "stream",
     "text": [
      "0b10000\n"
     ]
    }
   ],
   "source": [
    "num = 16\n",
    "print(bin(num)) # bin( ) gives us the binary number 0b prefix denotes binary"
   ]
  },
  {
   "cell_type": "code",
   "execution_count": 9,
   "metadata": {},
   "outputs": [
    {
     "name": "stdout",
     "output_type": "stream",
     "text": [
      "0x1b\n",
      "0o33\n"
     ]
    }
   ],
   "source": [
    "#numbers in Hex and Oct\n",
    "#0x is a hexadecimal which counts like this \"0123456789ABCDEFG\" once you hit 16 then you turn it to 0x(the number of times you hit 16)(the number you are currently at)\n",
    "\n",
    "num = 27\n",
    "print(hex(num))\n",
    "print(oct(num))"
   ]
  },
  {
   "cell_type": "code",
   "execution_count": 12,
   "metadata": {},
   "outputs": [
    {
     "name": "stdout",
     "output_type": "stream",
     "text": [
      "27\n"
     ]
    }
   ],
   "source": [
    "bin_num = bin(27)\n",
    "print(int(bin_num,2)) #2 specifies the base"
   ]
  },
  {
   "attachments": {},
   "cell_type": "markdown",
   "metadata": {},
   "source": [
    "# The print and input statement\n",
    "---"
   ]
  },
  {
   "attachments": {},
   "cell_type": "markdown",
   "metadata": {},
   "source": [
    "Print has a few default arguments you need to know"
   ]
  },
  {
   "cell_type": "code",
   "execution_count": null,
   "metadata": {},
   "outputs": [],
   "source": [
    "#def print(value, end = \"\\n\" , sep = \" \"):\n",
    "    #output to console (value)\n",
    "    #output the seperator\n",
    "    #output the end statement\n"
   ]
  },
  {
   "cell_type": "code",
   "execution_count": 19,
   "metadata": {},
   "outputs": [
    {
     "name": "stdout",
     "output_type": "stream",
     "text": [
      "Hello\n",
      "World\n",
      "Hello World "
     ]
    }
   ],
   "source": [
    "#the end keyword argument lets us change what print does after\n",
    "print(\"Hello\")\n",
    "print(\"World\")\n",
    "#changing end\n",
    "print(\"Hello\", end = \" \")\n",
    "print(\"World\", end = \" \")"
   ]
  },
  {
   "cell_type": "code",
   "execution_count": null,
   "metadata": {},
   "outputs": [],
   "source": [
    "#Sep goes inbetween what you print\n",
    "print(\"Hello\", \"World\")\n",
    "print(\"Hello\", \"World\", sep = \"$$$$$\")\n",
    "print(\"Hello\", \"World\", sep = \"\")"
   ]
  },
  {
   "attachments": {},
   "cell_type": "markdown",
   "metadata": {},
   "source": [
    "Input is how you get text from the console into your program\n",
    "The default value is a String\n",
    "It must be stored into a variable if you want the input saved"
   ]
  },
  {
   "cell_type": "code",
   "execution_count": null,
   "metadata": {},
   "outputs": [],
   "source": [
    "input(\"What is your name?\")\n",
    "name = input(\"What is your name?\") #store the input into a variable or you will lose the info you get from the input"
   ]
  },
  {
   "cell_type": "code",
   "execution_count": 21,
   "metadata": {},
   "outputs": [],
   "source": [
    "#Using a \\n to get a new line\n",
    "food = input(\"What food would you like? \\n\") #escape character for a new line\n",
    "\n",
    "#using print to ask and an blank input\n",
    "print(\"How spicy would you like it?\")\n",
    "spice = input()"
   ]
  }
 ],
 "metadata": {
  "kernelspec": {
   "display_name": "Python 3",
   "language": "python",
   "name": "python3"
  },
  "language_info": {
   "codemirror_mode": {
    "name": "ipython",
    "version": 3
   },
   "file_extension": ".py",
   "mimetype": "text/x-python",
   "name": "python",
   "nbconvert_exporter": "python",
   "pygments_lexer": "ipython3",
   "version": "3.10.9 (tags/v3.10.9:1dd9be6, Dec  6 2022, 20:01:21) [MSC v.1934 64 bit (AMD64)]"
  },
  "orig_nbformat": 4,
  "vscode": {
   "interpreter": {
    "hash": "db848ba9dddee61ca71b0391fd915c384886f9e7469196e13dd495193e5218df"
   }
  }
 },
 "nbformat": 4,
 "nbformat_minor": 2
}
