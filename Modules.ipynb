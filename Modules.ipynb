{
 "cells": [
  {
   "attachments": {},
   "cell_type": "markdown",
   "metadata": {},
   "source": [
    "# Modules\n",
    "___"
   ]
  },
  {
   "attachments": {},
   "cell_type": "markdown",
   "metadata": {},
   "source": [
    "Modules are a way to abstract code out of the main file. You can group similar functions or classes in other files\n",
    "\n",
    "We have imported modules before, but rarely ones we have created."
   ]
  },
  {
   "cell_type": "code",
   "execution_count": 2,
   "metadata": {},
   "outputs": [
    {
     "name": "stdout",
     "output_type": "stream",
     "text": [
      "this is me running from being imported\n"
     ]
    }
   ],
   "source": [
    "#my_mod is in the same directory as this file, so we can import it\n",
    "import my_mod"
   ]
  },
  {
   "cell_type": "code",
   "execution_count": 3,
   "metadata": {},
   "outputs": [
    {
     "name": "stdout",
     "output_type": "stream",
     "text": [
      "I am a function yaaaaaaay\n",
      "['In', 'Out', '_', '__', '___', '__builtin__', '__builtins__', '__doc__', '__loader__', '__name__', '__package__', '__spec__', '__vsc_ipynb_file__', '_dh', '_i', '_i1', '_i2', '_i3', '_ih', '_ii', '_iii', '_oh', 'exit', 'get_ipython', 'my_mod', 'open', 'os', 'quit', 'sys']\n"
     ]
    }
   ],
   "source": [
    "#using the function while it is still in the namespace\n",
    "my_mod.my_function()\n",
    "print(dir())"
   ]
  },
  {
   "attachments": {},
   "cell_type": "markdown",
   "metadata": {},
   "source": [
    "Sometimes we just want a function out of one module"
   ]
  },
  {
   "cell_type": "code",
   "execution_count": null,
   "metadata": {},
   "outputs": [],
   "source": [
    "#Using from will import something into these files namespace\n",
    "#you no longer use dot notation to call it\n",
    "from my_mod import my_function\n",
    "my_function()\n",
    "print(dir())"
   ]
  },
  {
   "cell_type": "code",
   "execution_count": null,
   "metadata": {},
   "outputs": [],
   "source": [
    "#Setting a variable in this file to one from my mod module\n",
    "from my_mod import make_list\n",
    "\n",
    "this_var = make_list()\n",
    "print(this_var)"
   ]
  }
 ],
 "metadata": {
  "kernelspec": {
   "display_name": "Python 3",
   "language": "python",
   "name": "python3"
  },
  "language_info": {
   "codemirror_mode": {
    "name": "ipython",
    "version": 3
   },
   "file_extension": ".py",
   "mimetype": "text/x-python",
   "name": "python",
   "nbconvert_exporter": "python",
   "pygments_lexer": "ipython3",
   "version": "3.10.9 (tags/v3.10.9:1dd9be6, Dec  6 2022, 20:01:21) [MSC v.1934 64 bit (AMD64)]"
  },
  "orig_nbformat": 4,
  "vscode": {
   "interpreter": {
    "hash": "db848ba9dddee61ca71b0391fd915c384886f9e7469196e13dd495193e5218df"
   }
  }
 },
 "nbformat": 4,
 "nbformat_minor": 2
}
