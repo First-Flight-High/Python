{
 "cells": [
  {
   "attachments": {},
   "cell_type": "markdown",
   "metadata": {},
   "source": [
    "# Tuples"
   ]
  },
  {
   "attachments": {},
   "cell_type": "markdown",
   "metadata": {},
   "source": [
    "Tuples are just like lists except they are immuatable\n",
    "\n",
    "Tuples use parenthesis instead of brackets"
   ]
  },
  {
   "cell_type": "code",
   "execution_count": null,
   "metadata": {},
   "outputs": [],
   "source": [
    "my_list = [1,2,3,4,5,]\n",
    "my_tup = (1,2,3,4,5)\n",
    "\n",
    "print(my_list[2])\n",
    "print(my_tup[2]) #accessing is still done with bracket just like a list\n",
    "\n",
    "my_list.append(6)\n",
    "#my_tup.append(6)"
   ]
  },
  {
   "cell_type": "code",
   "execution_count": 23,
   "metadata": {},
   "outputs": [
    {
     "name": "stdout",
     "output_type": "stream",
     "text": [
      "list ['__add__', '__class__', '__class_getitem__', '__contains__', '__delattr__', '__delitem__', '__dir__', '__doc__', '__eq__', '__format__', '__ge__', '__getattribute__', '__getitem__', '__gt__', '__hash__', '__iadd__', '__imul__', '__init__', '__init_subclass__', '__iter__', '__le__', '__len__', '__lt__', '__mul__', '__ne__', '__new__', '__reduce__', '__reduce_ex__', '__repr__', '__reversed__', '__rmul__', '__setattr__', '__setitem__', '__sizeof__', '__str__', '__subclasshook__', 'append', 'clear', 'copy', 'count', 'extend', 'index', 'insert', 'pop', 'remove', 'reverse', 'sort']\n",
      "Tuple ['__add__', '__class__', '__class_getitem__', '__contains__', '__delattr__', '__dir__', '__doc__', '__eq__', '__format__', '__ge__', '__getattribute__', '__getitem__', '__getnewargs__', '__gt__', '__hash__', '__init__', '__init_subclass__', '__iter__', '__le__', '__len__', '__lt__', '__mul__', '__ne__', '__new__', '__reduce__', '__reduce_ex__', '__repr__', '__rmul__', '__setattr__', '__sizeof__', '__str__', '__subclasshook__', 'count', 'index']\n"
     ]
    }
   ],
   "source": [
    "print(\"list\", dir(list))\n",
    "print(\"Tuple\", dir(tuple))"
   ]
  },
  {
   "cell_type": "code",
   "execution_count": 27,
   "metadata": {},
   "outputs": [
    {
     "name": "stdout",
     "output_type": "stream",
     "text": [
      "1\n"
     ]
    }
   ],
   "source": [
    "print(my_tup.count(2))"
   ]
  },
  {
   "cell_type": "code",
   "execution_count": 29,
   "metadata": {},
   "outputs": [
    {
     "name": "stdout",
     "output_type": "stream",
     "text": [
      "(3, 4) (1, 2)\n",
      "(1, 2, 3, 4) (3, 4, 1, 2)\n"
     ]
    }
   ],
   "source": [
    "#tuples are immutable but that doesn't mean you can't slice them\n",
    "my_tup = (1,2,3,4,5)\n",
    "a = my_tup[2:4]\n",
    "b = my_tup[:2]\n",
    "print(a, b)\n",
    "c = b + a\n",
    "d = a + b\n",
    "print(c, d)"
   ]
  },
  {
   "attachments": {},
   "cell_type": "markdown",
   "metadata": {},
   "source": [
    "Data structures can hold other data structures\n",
    "\n",
    "Lists can be inside of tuples or dictionaries and vice versa"
   ]
  },
  {
   "cell_type": "code",
   "execution_count": 47,
   "metadata": {},
   "outputs": [
    {
     "name": "stdout",
     "output_type": "stream",
     "text": [
      "[((0, 0), (0, 1), (0, 3)), ((1, 0), (1, 1), (1, 2)), ((2, 0), (2, 1), (2, 2))]\n",
      "((0, 0), (0, 1), (0, 3))\n",
      "((1, 0), (1, 1), (1, 2))\n",
      "((2, 0), (2, 1), (2, 2))\n",
      "You go in location (2, 2)\n"
     ]
    }
   ],
   "source": [
    "board = [\n",
    "    (  #row 1\n",
    "        (0,0),\n",
    "        (0,1),\n",
    "        (0,3),\n",
    "    ),\n",
    "    (  #row 2\n",
    "        (1,0),\n",
    "        (1,1),\n",
    "        (1,2),\n",
    "    ),\n",
    "    (  #row 3\n",
    "        (2,0),\n",
    "        (2,1),\n",
    "        (2,2),\n",
    "    ),\n",
    "]\n",
    "print(board)\n",
    "for row in board:\n",
    "    print(row)\n",
    "\n",
    "player = (2,2)\n",
    "for row in board:\n",
    "    for location in row:\n",
    "        if player == location:\n",
    "            print(\"You go in location\", player)"
   ]
  },
  {
   "cell_type": "code",
   "execution_count": 1,
   "metadata": {},
   "outputs": [
    {
     "name": "stdout",
     "output_type": "stream",
     "text": [
      "List Size: 248\n",
      "Tuple Size 200\n",
      "List Search 0.0001142999999501626\n",
      "Tup Search 7.709999954386149e-05\n"
     ]
    }
   ],
   "source": [
    "import sys, timeit\n",
    "my_list = [i for i in range(20)]\n",
    "my_tup = tuple(my_list)\n",
    "\n",
    "print(\"List Size:\", sys.getsizeof(my_list))\n",
    "print(\"Tuple Size\", sys.getsizeof(my_tup))\n",
    "\n",
    "def list_test(lst):\n",
    "    return lst[3]\n",
    "def tup_test(tup):\n",
    "    return tup[3]\n",
    "print(\"List Search\", timeit.timeit('list_test([1,2,3,4,5,6])', number = 1000,globals=globals()))\n",
    "print(\"Tup Search\", timeit.timeit('tup_test((1,2,3,4,5,6))', number = 1000, globals=globals()))\n"
   ]
  }
 ],
 "metadata": {
  "kernelspec": {
   "display_name": "Python 3",
   "language": "python",
   "name": "python3"
  },
  "language_info": {
   "codemirror_mode": {
    "name": "ipython",
    "version": 3
   },
   "file_extension": ".py",
   "mimetype": "text/x-python",
   "name": "python",
   "nbconvert_exporter": "python",
   "pygments_lexer": "ipython3",
   "version": "3.10.9 (tags/v3.10.9:1dd9be6, Dec  6 2022, 20:01:21) [MSC v.1934 64 bit (AMD64)]"
  },
  "orig_nbformat": 4,
  "vscode": {
   "interpreter": {
    "hash": "db848ba9dddee61ca71b0391fd915c384886f9e7469196e13dd495193e5218df"
   }
  }
 },
 "nbformat": 4,
 "nbformat_minor": 2
}
