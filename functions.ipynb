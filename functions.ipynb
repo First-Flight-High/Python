{
 "cells": [
  {
   "attachments": {},
   "cell_type": "markdown",
   "metadata": {},
   "source": [
    "# Functions\n",
    "---"
   ]
  },
  {
   "attachments": {},
   "cell_type": "markdown",
   "metadata": {},
   "source": [
    "Functions are how we reuse code\n",
    "Functions help us from having to copy and paste things over and over\n",
    "Functions save us from using GOTO statements \n",
    "Functions abstract away specific cases to work for multiple other cases\n",
    "Functiongs are written with Parameters but called with Arguments"
   ]
  },
  {
   "cell_type": "code",
   "execution_count": null,
   "metadata": {},
   "outputs": [],
   "source": [
    "#We call it defining when we create a function\n",
    "def my_function():\n",
    "    print(\"Functions can print to the console\")\n",
    "    return \"buit the main use is to return something\"\n",
    "\n",
    "#calling a function is when you put its name with parenthesis behind it.\n",
    "#up until this point the code is not run. It is just stored in the memory\n",
    "my_function()"
   ]
  },
  {
   "cell_type": "code",
   "execution_count": 2,
   "metadata": {},
   "outputs": [
    {
     "name": "stdout",
     "output_type": "stream",
     "text": [
      "6\n"
     ]
    }
   ],
   "source": [
    "#Parameters when you define\n",
    "def sum_two(num_one, num_two):\n",
    "    return num_one + num_two\n",
    "\n",
    "a = 2\n",
    "b = 4\n",
    "c = sum_two(a, b) #when we call it they are Arguments\n",
    "print(c)"
   ]
  },
  {
   "cell_type": "code",
   "execution_count": 4,
   "metadata": {},
   "outputs": [
    {
     "name": "stdout",
     "output_type": "stream",
     "text": [
      "0\n",
      "56\n"
     ]
    }
   ],
   "source": [
    "#globals\n",
    "sum = 0\n",
    "my_list = [1,4,6,7,8,3,4,6,8,9,]\n",
    "\n",
    "def sum_list(lst):\n",
    "    #local variable\n",
    "    sum = 0\n",
    "    for i in lst:\n",
    "        sum += i\n",
    "    return sum\n",
    "\n",
    "print(sum)\n",
    "print(sum_list(my_list)) #what is the answer"
   ]
  },
  {
   "cell_type": "code",
   "execution_count": 5,
   "metadata": {},
   "outputs": [
    {
     "name": "stdout",
     "output_type": "stream",
     "text": [
      "You eat the food and gain 10 HP\n",
      "None\n"
     ]
    }
   ],
   "source": [
    "#Functions that return nothing return None\n",
    "inventory = [\"Hammer\", \"Flashlight\", \"Money\", \"Food\"]\n",
    "\n",
    "def heal():\n",
    "    print(\"You eat the food and gain 10 HP\")\n",
    "    inventory.remove(\"Food\")\n",
    "\n",
    "#Since Function returns nothing it returns None\n",
    "print(heal())"
   ]
  },
  {
   "attachments": {},
   "cell_type": "markdown",
   "metadata": {},
   "source": [
    "Default arguments\n",
    "Sometimes you can write a funciton that will use a value unless it is overridden"
   ]
  },
  {
   "cell_type": "code",
   "execution_count": 6,
   "metadata": {},
   "outputs": [
    {
     "name": "stdout",
     "output_type": "stream",
     "text": [
      "mon tue wed thur fri \n",
      "mon tue wed "
     ]
    }
   ],
   "source": [
    "def days_of_week(length = 5):\n",
    "    days = [\"mon\", \"tue\", \"wed\", \"thur\", \"fri\"]\n",
    "    for i in range(length):\n",
    "        print(days[i], end = \" \") #Here we override the print default of \\n with a blank space\n",
    "\n",
    "#default call\n",
    "days_of_week()\n",
    "#did this just to add a \\n\n",
    "print()\n",
    "#Override\n",
    "days_of_week(length = 3)"
   ]
  },
  {
   "attachments": {},
   "cell_type": "markdown",
   "metadata": {},
   "source": [
    "Positional arguments"
   ]
  },
  {
   "attachments": {},
   "cell_type": "markdown",
   "metadata": {},
   "source": [
    "Keyword arguments"
   ]
  },
  {
   "attachments": {},
   "cell_type": "markdown",
   "metadata": {},
   "source": [
    "Shadowing and Global"
   ]
  },
  {
   "attachments": {},
   "cell_type": "markdown",
   "metadata": {},
   "source": [
    "Recursion"
   ]
  }
 ],
 "metadata": {
  "kernelspec": {
   "display_name": "Python 3",
   "language": "python",
   "name": "python3"
  },
  "language_info": {
   "codemirror_mode": {
    "name": "ipython",
    "version": 3
   },
   "file_extension": ".py",
   "mimetype": "text/x-python",
   "name": "python",
   "nbconvert_exporter": "python",
   "pygments_lexer": "ipython3",
   "version": "3.10.9 (tags/v3.10.9:1dd9be6, Dec  6 2022, 20:01:21) [MSC v.1934 64 bit (AMD64)]"
  },
  "orig_nbformat": 4,
  "vscode": {
   "interpreter": {
    "hash": "db848ba9dddee61ca71b0391fd915c384886f9e7469196e13dd495193e5218df"
   }
  }
 },
 "nbformat": 4,
 "nbformat_minor": 2
}
