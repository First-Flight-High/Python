{
 "cells": [
  {
   "cell_type": "code",
   "execution_count": 2,
   "metadata": {},
   "outputs": [
    {
     "name": "stdout",
     "output_type": "stream",
     "text": [
      "ello Wo\n"
     ]
    }
   ],
   "source": [
    "#Strings are a sequence of characters\n",
    "#Strings are immutable\n",
    "#Strings are enclosed in single or double quotes\n",
    "#Strings can be concatenated using the + operator\n",
    "#Strings can be repeated using the * operator\n",
    "#Strings can be indexed using the [] operator\n",
    "#Strings can be sliced using the [start:end] operator\n",
    "this_string = \"Hello World\"\n",
    "print(this_string[1:8])"
   ]
  },
  {
   "cell_type": "code",
   "execution_count": null,
   "metadata": {},
   "outputs": [],
   "source": [
    "#Strings can be split into lists using the split() method\n",
    "print(\"Hello World\".split())"
   ]
  },
  {
   "cell_type": "code",
   "execution_count": 1,
   "metadata": {},
   "outputs": [
    {
     "name": "stdout",
     "output_type": "stream",
     "text": [
      "Hello World\n"
     ]
    }
   ],
   "source": [
    "#Strings can be joined using the join() method\n",
    "print(\" \".join([\"Hello\", \"World\"]))"
   ]
  },
  {
   "cell_type": "code",
   "execution_count": null,
   "metadata": {},
   "outputs": [],
   "source": [
    "#fstrings are a new way to format strings in since Python 3.6\n",
    "this_string = \"World\"\n",
    "print(f\"Hello {this_string}\")\n",
    "\n",
    "name = \"John\"\n",
    "age = 30\n",
    "print(f'{name} is {age} years old. In ten years I will be {age + 10} years old.')"
   ]
  },
  {
   "attachments": {},
   "cell_type": "markdown",
   "metadata": {},
   "source": [
    "Escape Characters"
   ]
  },
  {
   "cell_type": "code",
   "execution_count": 5,
   "metadata": {},
   "outputs": [
    {
     "name": "stdout",
     "output_type": "stream",
     "text": [
      "{} () [] / ; : , . - + = < > ! * & ^ % $ # @\n",
      "He told me to call him \"the Dude\n",
      "He told me to call him \"the Dude\"\n",
      "c:\\programfiles\\microsoft\\flight_simulator\\\n",
      "These need to be seperated by a \t tab\n",
      "The backslash n gives us a \n",
      " new line like we hit return\n",
      "She said those keys were her's and not to touch them\n",
      " return a carrage \n"
     ]
    }
   ],
   "source": [
    "#these work\n",
    "print(\"{} () [] / ; : , . - + = < > ! * & ^ % $ # @\")\n",
    "#these don'this_string\n",
    "#print(\"\\ \" \")\n",
    "print('He told me to call him \"the Dude')\n",
    "print(\"He told me to call him \\\"the Dude\\\"\")\n",
    "print(\"c:\\\\programfiles\\\\microsoft\\\\flight_simulator\\\\\")\n",
    "#escaping with tab\n",
    "print(\"These need to be seperated by a \\t tab\")\n",
    "#the new line escape character\n",
    "print(\"The backslash n gives us a \\n new line like we hit return\")\n",
    "#apostrophe\n",
    "print('She said those keys were her\\'s and not to touch them')\n",
    "#carriage return\n",
    "print(\"This is a carrage \\r return\")"
   ]
  }
 ],
 "metadata": {
  "kernelspec": {
   "display_name": "Python 3",
   "language": "python",
   "name": "python3"
  },
  "language_info": {
   "codemirror_mode": {
    "name": "ipython",
    "version": 3
   },
   "file_extension": ".py",
   "mimetype": "text/x-python",
   "name": "python",
   "nbconvert_exporter": "python",
   "pygments_lexer": "ipython3",
   "version": "3.10.9 (tags/v3.10.9:1dd9be6, Dec  6 2022, 20:01:21) [MSC v.1934 64 bit (AMD64)]"
  },
  "orig_nbformat": 4,
  "vscode": {
   "interpreter": {
    "hash": "db848ba9dddee61ca71b0391fd915c384886f9e7469196e13dd495193e5218df"
   }
  }
 },
 "nbformat": 4,
 "nbformat_minor": 2
}
