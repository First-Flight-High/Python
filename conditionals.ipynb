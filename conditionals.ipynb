{
 "cells": [
  {
   "attachments": {},
   "cell_type": "markdown",
   "metadata": {},
   "source": [
    "# Conditionals\n",
    "---"
   ]
  },
  {
   "attachments": {},
   "cell_type": "markdown",
   "metadata": {},
   "source": [
    "The if statement will evaluate an expression to see if it is True or False.\n",
    "If True it will run the block of code that is indented under it."
   ]
  },
  {
   "cell_type": "code",
   "execution_count": null,
   "metadata": {},
   "outputs": [],
   "source": [
    "if True:\n",
    "    print(\"This code will run\")\n",
    "\n",
    "if 1 == 1:\n",
    "    print(\"This is indented under\")\n",
    "    print(\"This code will run as well\")\n",
    "\n",
    "\n",
    "print(\"This code runs after the if statementes are evaluated\")"
   ]
  },
  {
   "attachments": {},
   "cell_type": "markdown",
   "metadata": {},
   "source": [
    "Multiple ifs will run in order from top to bottom"
   ]
  },
  {
   "cell_type": "code",
   "execution_count": null,
   "metadata": {},
   "outputs": [],
   "source": [
    "num = 10\n",
    "if num > 1:\n",
    "    print(\"num over 1\")\n",
    "if num > 5:\n",
    "    print(\"num over 5\")\n",
    "if num > 10:\n",
    "    print(\"num over 10\")"
   ]
  },
  {
   "attachments": {},
   "cell_type": "markdown",
   "metadata": {},
   "source": [
    "The else statement"
   ]
  },
  {
   "cell_type": "code",
   "execution_count": null,
   "metadata": {},
   "outputs": [],
   "source": [
    "food = 19\n",
    "if food == 20:\n",
    "    print(\"food is 20\")\n",
    "else:\n",
    "    print(\"food is not 20\")"
   ]
  },
  {
   "attachments": {},
   "cell_type": "markdown",
   "metadata": {},
   "source": [
    "The need for else if"
   ]
  },
  {
   "cell_type": "code",
   "execution_count": null,
   "metadata": {},
   "outputs": [],
   "source": [
    "#fizzbuzz\n",
    "for i in range(1,31):\n",
    "    if i % 3 == 0 and i % 5 == 0:\n",
    "        print(\"FizzBuzz\")\n",
    "    elif i % 3 == 0:\n",
    "        print(\"Fizz\")\n",
    "    elif i % 5 == 0:\n",
    "        print(\"Buzz\")\n",
    "    else:\n",
    "        print(i)"
   ]
  },
  {
   "attachments": {},
   "cell_type": "markdown",
   "metadata": {},
   "source": [
    "Compound Conditionals vs Nested Ifs"
   ]
  },
  {
   "cell_type": "code",
   "execution_count": null,
   "metadata": {},
   "outputs": [],
   "source": [
    "num = 2\n",
    "num_2 = 3\n",
    "\n",
    "if num > 1:\n",
    "    if num_2 > 2:\n",
    "        print(\"nested conditionals\")\n",
    "    else:\n",
    "        print(\"Num 2 is less than 2\")\n",
    "\n",
    "if num > 1 and num_2 > 2:\n",
    "    print(\"Same thing\")"
   ]
  },
  {
   "attachments": {},
   "cell_type": "markdown",
   "metadata": {},
   "source": [
    "Pass statements are placeholders so your code runs when you don't have any code in a conditional"
   ]
  },
  {
   "cell_type": "code",
   "execution_count": null,
   "metadata": {},
   "outputs": [],
   "source": [
    "health = 100\n",
    "\n",
    "if health <= 0:\n",
    "    #add death animation\n",
    "    pass"
   ]
  },
  {
   "attachments": {},
   "cell_type": "markdown",
   "metadata": {},
   "source": [
    "While loops run until a condition is false"
   ]
  },
  {
   "cell_type": "code",
   "execution_count": null,
   "metadata": {},
   "outputs": [],
   "source": [
    "while True:\n",
    "    #infinite loop\n",
    "    break #breaks the current loop"
   ]
  },
  {
   "cell_type": "code",
   "execution_count": null,
   "metadata": {},
   "outputs": [],
   "source": [
    "num = 20\n",
    "while num > 0:\n",
    "    num -= 1\n",
    "    print(num)"
   ]
  },
  {
   "attachments": {},
   "cell_type": "markdown",
   "metadata": {},
   "source": [
    "The for loop is for running code over a iterable (iterable means to do something over and over again)"
   ]
  },
  {
   "cell_type": "code",
   "execution_count": null,
   "metadata": {},
   "outputs": [],
   "source": [
    "dogs = [\"Odie\", \"Snoopy\", \"Air Bud\", \"Chase\", \"Pluto\"]\n",
    "#prints the dogs in order from first to last\n",
    "for dog in dogs:\n",
    "    print(dog)\n",
    "\n",
    "#prints the index instead of the dog\n",
    "for i in range(len(dogs))\n",
    "print(i)\n"
   ]
  },
  {
   "attachments": {},
   "cell_type": "markdown",
   "metadata": {},
   "source": [
    "Loops in loops"
   ]
  },
  {
   "cell_type": "code",
   "execution_count": null,
   "metadata": {},
   "outputs": [],
   "source": [
    "#loops take lots of memory and are very inefficient\n",
    "board = []\n",
    "letters = [\"A\",\"B\",\"C\",\"D\",\"E\",\"F\",\"G\",\"H\"]\n",
    "\n",
    "for num in range(1,9):\n",
    "    for letter in letters:\n",
    "        board.append((letter,num))\n",
    "print(board)"
   ]
  },
  {
   "attachments": {},
   "cell_type": "markdown",
   "metadata": {},
   "source": [
    "Using a for loop in a while loop"
   ]
  },
  {
   "cell_type": "code",
   "execution_count": 17,
   "metadata": {},
   "outputs": [
    {
     "name": "stdout",
     "output_type": "stream",
     "text": [
      "You have Hammer ,flashlight ,keys ,In your inventory\n"
     ]
    }
   ],
   "source": [
    "inv = [\"Hammer \", \"flashlight \", \"keys \"]\n",
    "lives = 2\n",
    "\n",
    "while lives > 1:\n",
    "    print(\"You have \", end = \"\")\n",
    "    for item in inv:\n",
    "        print(item, end = \"\")\n",
    "    print(\"In your inventory\")\n",
    "    break"
   ]
  },
  {
   "attachments": {},
   "cell_type": "markdown",
   "metadata": {},
   "source": [
    "The continue command is for making a loop stop where it is, but no break out of the loop\n",
    "It continues to the next iteration"
   ]
  },
  {
   "cell_type": "code",
   "execution_count": 18,
   "metadata": {},
   "outputs": [
    {
     "name": "stdout",
     "output_type": "stream",
     "text": [
      "2\n",
      "4\n",
      "divisible by 3\n",
      "8\n",
      "10\n",
      "divisible by 3\n",
      "14\n",
      "16\n",
      "divisible by 3\n"
     ]
    }
   ],
   "source": [
    "for i in range(1,20):\n",
    "    if i % 2 == 1:\n",
    "        continue\n",
    "    elif i % 3 == 0:\n",
    "        print(\"divisible by 3\")\n",
    "    else:\n",
    "        print(i)"
   ]
  },
  {
   "attachments": {},
   "cell_type": "markdown",
   "metadata": {},
   "source": [
    "While and for can have an else statement"
   ]
  },
  {
   "cell_type": "code",
   "execution_count": null,
   "metadata": {},
   "outputs": [],
   "source": [
    "health = 3\n",
    "while health > 0:\n",
    "    print(\"Alive\")\n",
    "    health -= 1\n",
    "else:\n",
    "    print(\"Dead\")"
   ]
  },
  {
   "cell_type": "code",
   "execution_count": 23,
   "metadata": {},
   "outputs": [
    {
     "ename": "SyntaxError",
     "evalue": "invalid syntax (2690725379.py, line 10)",
     "output_type": "error",
     "traceback": [
      "\u001b[1;36m  Cell \u001b[1;32mIn[23], line 10\u001b[1;36m\u001b[0m\n\u001b[1;33m    find_felix():\u001b[0m\n\u001b[1;37m                ^\u001b[0m\n\u001b[1;31mSyntaxError\u001b[0m\u001b[1;31m:\u001b[0m invalid syntax\n"
     ]
    }
   ],
   "source": [
    "cats = [\"Garfield\", \"Felix\", \"Nermil\", \"Tabbey\"]\n",
    "\n",
    "def find_felix(list):\n",
    "    for cat in cats:\n",
    "        if cat == \"Felix\":\n",
    "            return cat\n",
    "    else:\n",
    "        return \"did not find\"\n",
    "\n"
   ]
  }
 ],
 "metadata": {
  "kernelspec": {
   "display_name": "Python 3",
   "language": "python",
   "name": "python3"
  },
  "language_info": {
   "codemirror_mode": {
    "name": "ipython",
    "version": 3
   },
   "file_extension": ".py",
   "mimetype": "text/x-python",
   "name": "python",
   "nbconvert_exporter": "python",
   "pygments_lexer": "ipython3",
   "version": "3.10.9"
  },
  "orig_nbformat": 4,
  "vscode": {
   "interpreter": {
    "hash": "db848ba9dddee61ca71b0391fd915c384886f9e7469196e13dd495193e5218df"
   }
  }
 },
 "nbformat": 4,
 "nbformat_minor": 2
}
